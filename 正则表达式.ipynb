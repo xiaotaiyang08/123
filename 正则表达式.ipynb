{
 "cells": [
  {
   "cell_type": "markdown",
   "metadata": {},
   "source": [
    "# 判断电话号码"
   ]
  },
  {
   "cell_type": "code",
   "execution_count": 2,
   "metadata": {},
   "outputs": [
    {
     "data": {
      "text/plain": [
       "True"
      ]
     },
     "execution_count": 2,
     "metadata": {},
     "output_type": "execute_result"
    }
   ],
   "source": [
    "def isPhoneNumber(text):\n",
    "    if len(text) != 12:\n",
    "        return False\n",
    "    for i in range(0, 3):\n",
    "        if not text[i].isdecimal():#isdecimal()判断是否是数字\n",
    "            return False\n",
    "    if text[3] != '-':\n",
    "            return False\n",
    "    for i in range(4, 7):\n",
    "        if not text[i].isdecimal():\n",
    "                return False\n",
    "    if text[7] != '-':\n",
    "                return False\n",
    "    for i in range(8, 12):\n",
    "        if not text[i].isdecimal():\n",
    "            return False\n",
    "    return True\n",
    "isPhoneNumber('425-434-3434')#刚好匹配正确"
   ]
  },
  {
   "cell_type": "code",
   "execution_count": 3,
   "metadata": {},
   "outputs": [
    {
     "data": {
      "text/plain": [
       "False"
      ]
     },
     "execution_count": 3,
     "metadata": {},
     "output_type": "execute_result"
    }
   ],
   "source": [
    "isPhoneNumber('abc辅导辅导费425-434-3434') #匹配不正确了"
   ]
  },
  {
   "cell_type": "markdown",
   "metadata": {},
   "source": [
    "# 从一长串字符中查找电话号码"
   ]
  },
  {
   "cell_type": "code",
   "execution_count": 4,
   "metadata": {},
   "outputs": [
    {
     "name": "stdout",
     "output_type": "stream",
     "text": [
      "Phone number found: 415-555-1011\n",
      "Phone number found: 415-555-9999\n",
      "Done\n"
     ]
    }
   ],
   "source": [
    "message = 'Call me at 415-555-1011 tomorrow. 415-555-9999 is my office.'\n",
    "for i in range(len(message)):\n",
    "    chunk = message[i:i+12]\n",
    "    if isPhoneNumber(chunk):\n",
    "        print('Phone number found: ' + chunk)\n",
    "print('Done')"
   ]
  },
  {
   "cell_type": "code",
   "execution_count": 5,
   "metadata": {},
   "outputs": [
    {
     "data": {
      "text/plain": [
       "'341-555-4242'"
      ]
     },
     "execution_count": 5,
     "metadata": {},
     "output_type": "execute_result"
    }
   ],
   "source": [
    "#正则表达式匹配\n",
    "import re\n",
    "phoneNumRegex = re.compile('\\d\\d\\d-\\d\\d\\d-\\d\\d\\d\\d')#raw\n",
    "mo = phoneNumRegex.search('My number is 341-555-4242.')\n",
    "mo.group()#通过group返回匹配结果"
   ]
  },
  {
   "cell_type": "code",
   "execution_count": 1,
   "metadata": {},
   "outputs": [],
   "source": [
    "import re"
   ]
  },
  {
   "cell_type": "code",
   "execution_count": 4,
   "metadata": {},
   "outputs": [
    {
     "data": {
      "text/plain": [
       "'456-123-1234'"
      ]
     },
     "execution_count": 4,
     "metadata": {},
     "output_type": "execute_result"
    }
   ],
   "source": [
    "phonenumberRegex = re.compile('\\d\\d\\d-\\d\\d\\d-\\d\\d\\d\\d')\n",
    "mo = phonenumberRegex.search('My number is 456-123-1234')\n",
    "mo.group()"
   ]
  },
  {
   "cell_type": "code",
   "execution_count": 6,
   "metadata": {},
   "outputs": [],
   "source": [
    "phoneNumRegex = re.compile('\\d\\d\\d-\\d\\d\\d-\\d\\d\\d\\d')#raw\n",
    "mo = phoneNumRegex.search('My number is 34-555-4242.')#首次出现\n",
    "if mo:\n",
    "    print(mo.group())#通过group返回匹配结果"
   ]
  },
  {
   "cell_type": "code",
   "execution_count": 7,
   "metadata": {},
   "outputs": [
    {
     "data": {
      "text/plain": [
       "'341-555-4242'"
      ]
     },
     "execution_count": 7,
     "metadata": {},
     "output_type": "execute_result"
    }
   ],
   "source": [
    "#用括号进行分组\n",
    "import re\n",
    "phoneNumRegex = re.compile('(\\d\\d\\d)-(\\d\\d\\d-\\d\\d\\d\\d)')\n",
    "mo = phoneNumRegex.search('My number is 341-555-4242.')\n",
    "mo.group(0)#通过group返回匹配结果,1是指第一个括号，2是两个括号，0是所有括号里的内容"
   ]
  },
  {
   "cell_type": "code",
   "execution_count": 8,
   "metadata": {},
   "outputs": [
    {
     "data": {
      "text/plain": [
       "('341', '555-4242')"
      ]
     },
     "execution_count": 8,
     "metadata": {},
     "output_type": "execute_result"
    }
   ],
   "source": [
    "mo.groups()#返回的是元组"
   ]
  },
  {
   "cell_type": "code",
   "execution_count": 9,
   "metadata": {},
   "outputs": [
    {
     "data": {
      "text/plain": [
       "'Spiderman'"
      ]
     },
     "execution_count": 9,
     "metadata": {},
     "output_type": "execute_result"
    }
   ],
   "source": [
    "#管道符号 | 匹配多个\n",
    "import re\n",
    "heroRegex = re.compile ('Batman|Spiderman')\n",
    "mo1 = heroRegex.search('Spiderman Batman')\n",
    "mo1.group()#第一次出现的匹配文本，因为Spiderman在前面"
   ]
  },
  {
   "cell_type": "code",
   "execution_count": 10,
   "metadata": {},
   "outputs": [
    {
     "data": {
      "text/plain": [
       "'Batmobile'"
      ]
     },
     "execution_count": 10,
     "metadata": {},
     "output_type": "execute_result"
    }
   ],
   "source": [
    "batRegex = re.compile('Bat(man|mobile|copter|bat)')#可以匹配'Batman'、'Batmobile'、'Batcopter'和'Batbat'中任意一个。因为所有这些字符串都以Bat开始\n",
    "mo = batRegex.search('Batmobile lost a wheel')\n",
    "mo.group()"
   ]
  },
  {
   "cell_type": "code",
   "execution_count": 11,
   "metadata": {},
   "outputs": [
    {
     "data": {
      "text/plain": [
       "'Batwoman'"
      ]
     },
     "execution_count": 11,
     "metadata": {},
     "output_type": "execute_result"
    }
   ],
   "source": [
    "#问号，可选匹配\n",
    "import re\n",
    "batRegex = re.compile('Bat(wo)?man')\n",
    "mo1 = batRegex.search('The Adventures of Batwoman')\n",
    "mo1.group()"
   ]
  },
  {
   "cell_type": "code",
   "execution_count": 12,
   "metadata": {},
   "outputs": [
    {
     "name": "stdout",
     "output_type": "stream",
     "text": [
      "415-555-4242\n",
      "555-4242\n"
     ]
    }
   ],
   "source": [
    "phoneRegex = re.compile('(\\d\\d\\d-)?\\d\\d\\d-\\d\\d\\d\\d')#包含或者不包含区号\n",
    "mo1 = phoneRegex.search('My number is 415-555-4242')\n",
    "print(mo1.group())\n",
    "mo2 = phoneRegex.search('My number is 555-4242')\n",
    "print(mo2.group())"
   ]
  },
  {
   "cell_type": "code",
   "execution_count": 13,
   "metadata": {},
   "outputs": [
    {
     "data": {
      "text/plain": [
       "'Batwowowoman'"
      ]
     },
     "execution_count": 13,
     "metadata": {},
     "output_type": "execute_result"
    }
   ],
   "source": [
    "#星号，零次或多次\n",
    "import re\n",
    "batRegex = re.compile('Bat(wo)*man')\n",
    "mo1 = batRegex.search('The Adventures of Batwowowoman')\n",
    "mo1.group()"
   ]
  },
  {
   "cell_type": "code",
   "execution_count": 14,
   "metadata": {},
   "outputs": [
    {
     "data": {
      "text/plain": [
       "'Batwowoman'"
      ]
     },
     "execution_count": 14,
     "metadata": {},
     "output_type": "execute_result"
    }
   ],
   "source": [
    "#加号，至少出现一次\n",
    "import re\n",
    "batRegex = re.compile('Bat(wo)+man')\n",
    "mo1 = batRegex.search('The Adventures of Batwowoman')\n",
    "mo1.group()"
   ]
  },
  {
   "cell_type": "code",
   "execution_count": 15,
   "metadata": {},
   "outputs": [
    {
     "data": {
      "text/plain": [
       "'hahaha'"
      ]
     },
     "execution_count": 15,
     "metadata": {},
     "output_type": "execute_result"
    }
   ],
   "source": [
    "#匹配特定次数，一般大于1\n",
    "haRegex = re.compile('(ha){3}')\n",
    "mo1 = haRegex.search('hahahahha')\n",
    "mo1.group()"
   ]
  },
  {
   "cell_type": "code",
   "execution_count": 16,
   "metadata": {},
   "outputs": [
    {
     "data": {
      "text/plain": [
       "'hahaha'"
      ]
     },
     "execution_count": 16,
     "metadata": {},
     "output_type": "execute_result"
    }
   ],
   "source": [
    "#匹配特定次数,指定范围，默认贪婪匹配，尽可能匹配长的\n",
    "haRegex = re.compile('(ha){2,4}')#贪婪匹配\n",
    "mo1 = haRegex.search('hahahahha')\n",
    "mo1.group()"
   ]
  },
  {
   "cell_type": "code",
   "execution_count": 17,
   "metadata": {},
   "outputs": [
    {
     "data": {
      "text/plain": [
       "'haha'"
      ]
     },
     "execution_count": 17,
     "metadata": {},
     "output_type": "execute_result"
    }
   ],
   "source": [
    "#匹配特定次数,加一个？变成非贪婪匹配，尽可能匹配短的\n",
    "haRegex = re.compile('(ha){2,4}?')#非贪婪匹配\n",
    "mo1 = haRegex.search('hahahahha')\n",
    "mo1.group()"
   ]
  },
  {
   "cell_type": "code",
   "execution_count": 18,
   "metadata": {},
   "outputs": [
    {
     "data": {
      "text/plain": [
       "'<hahahfdfdfdfdf13434ahaha>'"
      ]
     },
     "execution_count": 18,
     "metadata": {},
     "output_type": "execute_result"
    }
   ],
   "source": [
    "#点匹配除了换行符之外的任意一个字符<>是样式，<>里面的任意一个字符，包含<>\n",
    "#点星匹配任意字符（）\n",
    "haRegex = re.compile('<.*>')\n",
    "mo2 = haRegex.search('fdf<hahahfdfdfdfdf13434ahaha>kkkfk')\n",
    "mo2.group()"
   ]
  },
  {
   "cell_type": "code",
   "execution_count": 19,
   "metadata": {},
   "outputs": [
    {
     "data": {
      "text/plain": [
       "'<hahaha>'"
      ]
     },
     "execution_count": 19,
     "metadata": {},
     "output_type": "execute_result"
    }
   ],
   "source": [
    "#点星匹配任意字符，因为*是指0个或多个\n",
    "haRegex = re.compile('<.*?>')#非贪婪模式，用得最多，匹配的尽可能短\n",
    "mo2 = haRegex.search('fdf<hahaha>haha>kkkfk')\n",
    "mo2.group()"
   ]
  },
  {
   "cell_type": "code",
   "execution_count": 20,
   "metadata": {},
   "outputs": [
    {
     "data": {
      "text/plain": [
       "'<ttt\\nfdfd>'"
      ]
     },
     "execution_count": 20,
     "metadata": {},
     "output_type": "execute_result"
    }
   ],
   "source": [
    "#跨行 re.DOTALL，返回的是首次出现的\n",
    "haRegex = re.compile('<.*>',re.DOTALL)\n",
    "text='''weret<ttt\n",
    "fdfd>fdf'''\n",
    "mo2 = haRegex.search(text)\n",
    "mo2.group()"
   ]
  },
  {
   "cell_type": "code",
   "execution_count": 21,
   "metadata": {},
   "outputs": [
    {
     "data": {
      "text/plain": [
       "['1', '2', '34', '4444']"
      ]
     },
     "execution_count": 21,
     "metadata": {},
     "output_type": "execute_result"
    }
   ],
   "source": [
    "#findall，匹配表达式所有内容\n",
    "import re\n",
    "kk = re.compile('\\d+')\n",
    "kk.findall('one1two2three34four4444')#匹配所有数字，加表示一个或者多个，返回一个列表，是一个字符串"
   ]
  },
  {
   "cell_type": "code",
   "execution_count": 3,
   "metadata": {},
   "outputs": [
    {
     "data": {
      "text/plain": [
       "['10', '20', '30', '40', '59']"
      ]
     },
     "execution_count": 3,
     "metadata": {},
     "output_type": "execute_result"
    }
   ],
   "source": [
    "import re\n",
    "patt='[1-5][0-9]'\n",
    "lis=[10,20,30,40,2,3,59,60,'aa','3aaa']\n",
    "match=re.findall(patt,str(lis))\n",
    "match"
   ]
  },
  {
   "cell_type": "code",
   "execution_count": 22,
   "metadata": {
    "scrolled": true
   },
   "outputs": [
    {
     "name": "stdout",
     "output_type": "stream",
     "text": [
      "gold\n",
      " Google\n"
     ]
    }
   ],
   "source": [
    "#匹配哪些字符\n",
    "import re\n",
    "words=['gold',' Google','Sogu','Guess']\n",
    "patt=re.compile('.*g[^u]')#.*,指任意字符，匹配里面有g，里面不能有u  \n",
    "for w in words:\n",
    "   m=patt.findall(w)\n",
    "   if m:\n",
    "      print(w)"
   ]
  },
  {
   "cell_type": "code",
   "execution_count": 40,
   "metadata": {},
   "outputs": [
    {
     "data": {
      "text/plain": [
       "'e'"
      ]
     },
     "execution_count": 40,
     "metadata": {},
     "output_type": "execute_result"
    }
   ],
   "source": [
    "haRegex = re.compile('[^w]',re.DOTALL)\n",
    "text='''weret<ttt\n",
    "fdfd>fdf'''\n",
    "mo2 = haRegex.search(text)\n",
    "mo2.group()"
   ]
  },
  {
   "cell_type": "code",
   "execution_count": 23,
   "metadata": {},
   "outputs": [
    {
     "name": "stdout",
     "output_type": "stream",
     "text": [
      "['10', '20', '30', '40', '59']\n"
     ]
    }
   ],
   "source": [
    "#例子2.#把字符中，10至59取出来 lis=[10,20,30,40,2,3,59,60,'aa','3aaa']\n",
    "import re #可以用join方法进行字符串的转换，但列表里面的数据类型要一样，还必须是字符串类型\n",
    "patt='[1-5][0-9]'#第一位数是1-5，第二位数是0-9\n",
    "lis=[10,20,30,40,2,3,59,60,'aa','3aaa']\n",
    "match=re.findall(patt,str(lis))\n",
    "if match:\n",
    "  print(match)"
   ]
  },
  {
   "cell_type": "code",
   "execution_count": 24,
   "metadata": {},
   "outputs": [],
   "source": [
    "#电话号码邮箱地址 http://www.bubuko.com/infodetail-1635265.html"
   ]
  },
  {
   "cell_type": "code",
   "execution_count": 10,
   "metadata": {},
   "outputs": [],
   "source": [
    "import pyperclip\n",
    "text = str(pyperclip.paste())#最近一次复制的，复制过来"
   ]
  },
  {
   "cell_type": "code",
   "execution_count": 11,
   "metadata": {
    "scrolled": true
   },
   "outputs": [
    {
     "data": {
      "text/plain": [
       "'[首页][新闻][文章][教程]\\r\\n[登录]  [注册]\\r\\n 布布扣，bubuko.com\\r\\n 首页Web开发Windows开发编程语言数据库技术移动平台系统服务微信设计布布扣其他数据分析 \\r\\n\\r\\n \\r\\n首页 > 移动平台 > 详细\\r\\n中央部门领导地址维权邮箱和记者手机号码大全2016（王焰）\\r\\n时间：2016-06-25 23:16:08      阅读：12924      评论：0      收藏：0      [点我收藏+]\\r\\n\\r\\n \\r\\n标签：精神控制\\r\\n\\r\\n中央部门领导地址维权邮箱和记者手机号码大全2016（王焰）\\r\\n\\r\\n\\r\\n\\r\\n今日说法信箱：lawtoday@cctv.com\\r\\n\\r\\n焦点访谈信箱：ab30@cctv.com\\r\\n\\r\\n社会记录信箱：shjl@cctv.com\\r\\n\\r\\n信息发布：greatfire@greatfire.org\\r\\n\\r\\nah12331@126.com\\r\\n\\r\\n国防部：mod@mod.gov.cn\\r\\n\\r\\n监察部：ccdi@mos.gov.cn\\r\\n\\r\\n城乡建设部：djzb@mail.cin.gov.cn或者cin@mail.cin.gov.cn\\r\\n\\r\\n国土资源部：mhwz@mail.mlr.gov.cn\\r\\n\\r\\n参事室：gwycss@163.com <gwycss@163.com>gwycss@163.com \\r\\n\\r\\n安全监管局：wzbj@chinasafety.gov.cn\\r\\n\\r\\n国家体育总局办公厅：bgt@sport.gov.cn监察室：jcj@sport.gov.cn\\r\\n\\r\\n人力资源部：wzzb@mohrss.gov.cn\\r\\n\\r\\n国家旅游局：webmaster@cnta.gov.cn\\r\\n\\r\\n新闻出版总局：sarft@chinasarft.gov.cn\\r\\n\\r\\n航天局：webmaster@cnsa.gov.cn\\r\\n\\r\\n农业部：webmaster@agri.gov.cn\\r\\n\\r\\n港澳办：service@hmo.gov.cn\\r\\n\\r\\n质监总局：webmaster@aqsiq.gov.cn\\r\\n\\r\\n水利部：webmaster@mwr.gov.cn <webmaster@mwr.gov.cn>\\r\\n\\r\\n司法部：pfmaster@legalinfo.gov.cn \\r\\n\\r\\n最高人民法院院长：yzxx@court.gov.cn\\r\\n\\r\\n国家检察学院：jcgxy@sina.cn \\r\\n\\r\\n国际反贪局：iaaca2006@yahoo.com.cn\\r\\n\\r\\n中国职务犯罪网：yfw@jcrb.com\\r\\n\\r\\n统战部：网站信箱：webmaster@zytzb.gov.cn投稿信箱：tougao@zytzb.gov.cn\\r\\n\\r\\n\\r\\n\\r\\n对外联络部：xinxi@idcpc.org.cn\\r\\n\\r\\n中共党校：tgwww@ccps.gov.cn\\r\\n\\r\\ncctv:webmaster@cctv.com\\r\\n\\r\\n人民网客服：kf@people.cn 人民网：rmzx@peopledaily.com.cn或者rmzxb@peopledaily.com.cn\\r\\n\\r\\n交通运输部：网站邮箱：jtbweb@mot.gov.cn 节假日电话：13717793170\\r\\n\\r\\n审计署：master@audit.gov.cn <master@audit.gov.cn>\\r\\n\\r\\n教育部门户网站编辑部主编信箱：moe@moe.edu.cn\\r\\n\\r\\n公安网：rmgabcpdzbj@sina.com <rmgabcpdzbj@sina.com>\\r\\n\\r\\n中国残联：web@cdpf.org.cn\\r\\n\\r\\n凯风网：editor@kaiwind.com <editor@kaiwind.com>\\r\\n\\r\\n未来网：weilaiwang@k618.cn\\r\\n\\r\\n国务院新闻办公室：gxbwz@scio.gov.cn\\r\\n\\r\\n中国禁毒网:zgjdwtxy@163.com\\r\\n\\r\\n中国青年网:投稿 youth@youth.cn\\u3000或者ad@youth.cn\\r\\n\\r\\n新京报:bjnews_xjbkx@126.com时事评论投稿：shepingbj@vip.sina.com经济评论投稿：jingjipinglun@vip.sina.com文娱随笔投稿：xjbnews@163.com\\r\\n\\r\\n党建网：dangjianzazhi@vip.sina.com\\r\\n\\r\\n中国军网：dzbbjb@jfjb.com.cn <dzbbjb@jfjb.com.cn>\\r\\n\\r\\n新华军网：sjjs@188.com <sjjs@188.com>\\r\\n\\r\\n军报记者网：81@81.cn ; jbjzb@qq.com或者jbjz@zzb.bj\\r\\n\\r\\n中国军视：hr@js7tv.cn或者weiming@js7tv.cn\\r\\n\\r\\n光明网：网管信箱：webmaster@gmw.cn\\u3000投稿请发邮件至md@gmw.cn\\r\\n\\r\\n中国记者协会：zhxwcmw@sina.com或者zgjxxhw@126.com\\r\\n\\r\\n21cn新闻网：news@corp.21cn.com\\r\\n\\r\\n南方人物周刊：renwzk@163.com\\r\\n\\r\\n\\r\\n\\r\\n《南都周刊》网站邮箱：nb@nbweekly.com采编邮箱：gzndzk@163.com采编邮箱：ndzk2005@163.com\\r\\n\\r\\n科学松鼠会：contact@songshuhui.net\\r\\n\\r\\n科学网：snnews@stimes.cn  \\r\\n\\r\\n中国科学院:casweb@cashq.ac.cn \\r\\n\\r\\n法制晚报:fwhr@fawan.com\\r\\n\\r\\n法制日报社:bxxb@legaldaily.com.cn\\r\\n\\r\\n普法网:pfmaster@legalinfo.gov.cn\\r\\n\\r\\n中国法学会:cls2106@chinalaw.org.cn\\r\\n\\r\\n法学期刊:zgfxzbs@163.com\\r\\n\\r\\n求是编辑部:editor@qstheory.com或者qiushi@qstheory.com\\r\\n\\r\\n国家行政学院:cag@nsa.gov.cn\\r\\n\\r\\n法律援助信箱:chinalegalaid@sina.cn <chinalegalaid@sina.cn>\\r\\n\\r\\n焦点访谈：电子邮箱：ab30@cctv.com栏目QQ：966877微信号：jdftcctv\\r\\n\\r\\nCCTV网：webmaster@cctv.com\\r\\n\\r\\n中央电视台心理访谈：cctv12xlft12@sina.com\\r\\n\\r\\n法律讲堂：法律咨询热线：010 - 65515511或者E-mail：cctvfljt@sina.com\\r\\n\\r\\n见证：cctvdocu@yahoo.com.cn\\r\\n\\r\\n国际在线：webmaster@cri.cn\\r\\n\\r\\n央广网：新闻热线：400-800-0088 E-mail:4008000088@cnr.cn 法务部邮箱：fawu@cnr.cn\\r\\n\\r\\n岳成所：yuecheng@yuecheng.com\\r\\n\\r\\n台盟中央：webmaster@taimeng.org.cn\\r\\n\\r\\n93学社：93zx@93.gov.cn <93zx@93.gov.cn>\\r\\n\\r\\n全国工商联：jcyjx@acfic.org.cn <jcyjx@acfic.org.cn>\\r\\n\\r\\n中国社会科学院：zgshkxw_cssn@163.com\\r\\n\\r\\n全国人大联系我们 icc@npc.gov.cn | 投稿信箱 tgxx@npc.gov.cn\\r\\n\\r\\n中国日报社对外：circulation@chinadaily.com.cn或者enquiries@mail.chinadailyuk.com\\r\\n\\r\\n民主与法制：mzyfzjbzy@163.com <mzyfzjbzy@163.com>或者mzyfztgzy@163.com <mzyfztgzy@163.com>或者mzyfzmb@163.com\\r\\n\\r\\n中国律师网：acla@acla.org.cn <acla@acla.org.cn>\\r\\n\\r\\n新闻周刊：izhaopin@chinanews.com.cn\\r\\n\\r\\n中国法院网：tg.fzsp@chinacourt.org或者tg.rmps@chinacourt.org或者info@chinacourt.org\\r\\n\\r\\n方圆法治网：方圆法治网邮箱：fangyuanfzw@126.com方圆杂志邮箱：fangyuan@jcrb.com.cn或者sjh88688@126.com\\u3000\\r\\n\\r\\n方圆律政：fylz_ylw@163.com \\r\\n\\r\\n中国检察官基金会：gjjjh@126.com \\r\\n\\r\\n职务犯罪预防：yfw@jcrb.com\\r\\n\\r\\n人民检察：rmjc@jcrb.com.cn <rmjc@jcrb.com.cn>或者rmjc@jcrb.com或者         rmjcbjb@126.com或者\\r\\n\\r\\n中国人权网：editor@humanrights.cn\\r\\n\\r\\n北京政府网客服：service@beijing.gov.cn\\r\\n\\r\\n北京市民政局：wudi@bjmzj.gov.cn\\r\\n\\r\\n上海市民政局：webadmin@shmzj.gov.cn \\r\\n\\r\\n北京双拥：beijingshuangyong@163.com或者wudi@bjmzj.gov.cn\\r\\n\\r\\n中国爱国拥军：zgagyjcjh@163.com\\r\\n\\r\\n扬子晚报：ywb@yangtse.com或者rxxw@yangtse.com\\r\\n\\r\\n杭州民政：smz@hz.gov.cn\\r\\n\\r\\n山西民政：mztwzb@126.com或者mztjjz@126.com\\r\\n\\r\\n辽宁民政：lnsmzt_zfxxgk@ln.gov.cn\\r\\n\\r\\n黑龙江民政：webmaster@hljmzt.gov.cn \\r\\n\\r\\n福建民政：fjsmzt@fujian.gov.cn\\r\\n\\r\\n山东英烈网：mztbb789@126.com\\r\\n\\r\\n广东民政：mzt_jcs@gd.gov.cn <mzt_jcs@gd.gov.cn>\\r\\n\\r\\n广西民政：bgs@gxmzt.gov.cn\\r\\n\\r\\n重庆民政：webadmin@cqmz.gov.cn\\r\\n\\r\\n重庆残军医院网：lqqwlxgood850405@163.com\\r\\n\\r\\n贵州民政：gzsmzt@163.com\\r\\n\\r\\n中国政法大学：cupl@cupl.edu.cn \\r\\n\\r\\n北京市政务网：service@beijing.gov.cn\\r\\n\\r\\n首都政法网：zfzzw@bj148.org 或者 zhaopin@bj148.org \\r\\n\\r\\n北京法制办：bjfzb@bjfzb.gov.cn\\r\\n\\r\\n河北省人民政府：wzglzx@hebei.gov.cn\\r\\n\\r\\n山西省人民政府：zgsxwz@shanxigov.cn\\r\\n\\r\\n南京市政府：webmaster@nj.gov.cn\\r\\n\\r\\n全国总工会：info@acftu.org.cn\\r\\n\\r\\n人权研究院：ihr@cupl.edu.cn\\r\\n\\r\\n政法刘小楠：liuxiaonan@gmail.com\\r\\n\\r\\n中国日报：cdoffice@chinadaily.com.cn或者zhongwen@chinadaily.com.cn\\r\\n\\r\\n冤假错案网：邮箱1：zgyjca@163.com邮箱2：w926666@163.com\\r\\n\\r\\n人民维权网：QQ1436507725 邮箱：rmflwqw@126.com\\r\\n\\r\\n方正图书网：tougao@lianzheng.com.cn或者3053426405@qq.com\\r\\n\\r\\n中新网：gaojian@chinanews.com.cn电话：15699788000\\r\\n\\r\\n红网：QQ群: 28586189 msn：hnxjs@hotmail.com\\r\\n\\r\\n中国军网：jfjb81tv@qq.com或者 jfjb81tv@126.com\\r\\n\\r\\n民政部政策法规司：zcfgs@mca.gov.cn\\r\\n\\r\\n科技日报：sunyan@wokeji.com或者wangzhan@stdaily.com\\r\\n\\r\\n国土资源部：mhwz@mail.mlr.gov.cn\\r\\n\\r\\n中国军事科学院：icmh2015@sina.com\\r\\n\\r\\n国防大学：ndu@cids.cn或者mail@cdsndu.org\\r\\n\\r\\n国防部： mod@mod.gov.cn \\r\\n\\r\\n国防动员网：gfdy@mod.gov.cn <gfdy@mod.gov.cn>\\r\\n\\r\\n军人法制网：电话：13608510837、13595177075 投稿邮箱：jrwq@163.com \\r\\n\\r\\n揭幕者：neimuxiaoxi@126.com\\r\\n\\r\\n解放军生活：jfjsh@vip.sina.com\\r\\n\\r\\n三联生活：dzfw@lifeweek.com.cn\\r\\n\\r\\n刘晓原liu6465@gmail.com\\r\\n\\r\\n贺卫方halacha78@126.com\\r\\n\\r\\n张召忠ZZZ-1952@163.COM\\r\\n\\r\\n张泉灵：ziniu@cmcm.com\\r\\n\\r\\n中国人权：editor@humanrights.cn \\r\\n\\r\\n北京大学人权研究：humanrights@pku.edu.cn\\r\\n\\r\\n白岩松：13901195701  E－mail: baiyansong@vip.sina.com\\r\\n\\r\\n今日说法：栏目QQ:2008124 E-mail：2008124@qq.com\\r\\n\\r\\n新闻调查：主编邮箱：xinwendiaocha@vip.sina.com热线电话：010-68579889转198E-MAIL：ab35@cctv.com \\r\\n\\r\\n柴静E-MAIL：chaijing@263.net\\r\\n\\r\\n杨春E-MAIL：yangchuncctv@gmail.com\\r\\n\\r\\n郭宇宽E-MAIL：guoyukuan@gmail\\r\\n\\r\\n环球时报：info@globaltimes.com.cn\\r\\n\\r\\n南方都市报：nfdsb@tom.com或者87388888@nandu.cc或者时评 shipingban1@vip.sina.com\\r\\n\\r\\n《南方周末》报料热线 020-8736 4207徐  楠 13580300297 nanxu2008@hotmail.com南方周末郭光东02087377340 13825074671南方周末新闻部主任伍小峰02087373998\\r\\n\\r\\n\\r\\n\\r\\n湖南卫视：nightnews@hunantv.com\\r\\n\\r\\n中国新闻周刊：huangaihe@chinanews.com.cn\\r\\n\\r\\n人民监督网：E-mail: rmjdwbj@gmail.com\\r\\n\\r\\n环球网博客E-mail:blog@huanqiu.com\\r\\n\\r\\n搜狐 张朝阳 首席执行官 65102158 charles@sohu-inc.com\\r\\n\\r\\n搜狐 曾伏虎 新闻中心主任 65102160-277 tigerzeng@sohu-inc.com\\r\\n\\r\\n搜狐 张胜利 新闻中心主编 \\u3000 [email]shengli@itc.com.cn\\r\\n\\r\\n凤凰卫视编辑部：news@phoenixtv.com.cn能见度：nengjiandu@phoenixtv.com.cn\\r\\n\\r\\n香港无线驻京：news-bj@tvb.com.hk \\r\\n\\r\\n香港大公报 王德军 13910201685 dejunbest@yahoo.com.cn\\r\\n\\r\\n文汇报驻北京办事处 江世亮 记者 67181551 jsl@wxjt.com.cn\\r\\n\\r\\n香港大公报 王德军 13910201685 dejunbest@yahoo.com.cn\\r\\n\\r\\n大公报 河南联络处记者  白炳坤13838068667\\r\\n\\r\\n       河南联络处记者  李景  13837166366 电子邮件zztaotao@163.com\\r\\n\\r\\n黄敬龄：gwong@ap.org或者apdigital@ap.org\\r\\n\\r\\n草根网：联系我们：QQ513460486 邮箱：icaogen@126.com\\r\\n\\r\\n叶檀：邮箱yetan@vip.sohu.com。\\r\\n\\r\\n卢欣：联系方式：evenluxin@hotmail.com\\r\\n\\r\\n易宪容：yixrong@vip.sina.com\\r\\n\\r\\n皮海洲：phz168@21cn.com\\r\\n\\r\\n戴旭：chinadaixu2010@sina.com\\r\\n\\r\\n刘军洛：liujunluo@sohu.com\\r\\n\\r\\n殴阳君山：QQ：838854395或者E-mail：ouyangjunshan@163.com手机：13021995899\\r\\n\\r\\n大国空巢：daguokongchao@gmail.com\\r\\n\\r\\n时寒冰：姓时名寒冰字暖之。70年代人。现居上海。上海证券报评论·专题部主编。本人E－mail：editor@vip.sohu.com通信地址：（200127）上海市浦东新区杨高南路1100号上海证券报 时寒冰（收）\\r\\n\\r\\n证据法学：evidenceforum@126.com\\r\\n\\r\\n迎春论坛：yuming101@gmail.com <yuming101@gmail.com>\\r\\n\\r\\n陈鲁豫：yuyueblog2007@sina.com\\r\\n\\r\\n安徽省公安厅：ahgaxw@126.com或者pajhw110@163.com\\r\\n\\r\\n南京市政府：zgnj@njnet.gov.cn\\r\\n\\r\\n广州民政：gdshuangyong888@263.net\\r\\n\\r\\n民政部顾磊：gulei@mca.gov.cn\\r\\n\\r\\n上海民政：shenjm@shdrc.gov.cn或者\\u3000\\u3000qcx@shmzj.gov.cn\\r\\n\\r\\n深圳民政：azc@szmz.sz.gov.cn或者yfsyc@szmz.sz.gov.cn或者bgs@szmz.sz.gov.cn\\r\\n\\r\\n无锡市民政：info@wxetc.gov.cn <info@wxetc.gov.cn>\\r\\n\\r\\n南通民政：ntmzjbgs@163.com\\r\\n\\r\\n安庆市民政：master@aqmz.gov.cn\\r\\n\\r\\n安庆政法委：aqzfw@sina.com或者：anqingshuangyong@qq.com\\r\\n\\r\\n张家界：zjjjw157@163.com\\r\\n\\r\\n看中国：kzgtougao@gmail.com或者tougao.kanzhongguo.com \\r\\n\\r\\n唐人：editor@ntdtv.com\\r\\n\\r\\n希望声音：webcenter@soundofhope.org\\r\\n\\r\\n通讯社TW：services@mail.cna.com.tw\\r\\n\\r\\n苹果： atnextsub@nextdigital.com.hk或者webmaster@nextdigital.com.hk或者atnextsub@nextdigital.com.hk\\r\\n\\r\\n人M报：editor@renminbao.com \\r\\n\\r\\n人全信息中心：okokok@netvigator.com\\r\\n\\r\\n\\r\\n\\r\\n\\r\\n\\r\\n老山兰：laoshan@vip.163.com\\r\\n\\r\\n新疆建设兵团：info@xjbt.gov.cn\\r\\n\\r\\n青海省：postmaster@qh.gov.cn \\r\\n\\r\\n宁夏省：content@nx.gov.cn\\r\\n\\r\\n甘肃省：content@nx.gov.cn\\r\\n\\r\\n\\r\\n\\r\\n中央各部委.中央领导的上访地址及通讯邮编.大家可以举报那些腐败官员!\\r\\n\\r\\n\\r\\n\\r\\n\\u3000\\u30001.总政治部信访局：红罗厂大街东头（厂桥派出所东边）.厂桥爱民街37号\\r\\n\\r\\n\\r\\n\\r\\n\\u3000\\u30002.中办、国务院人民接访室：永定门西街甲1号\\u3000电话：63035987\\r\\n\\r\\n\\r\\n\\r\\n\\u3000\\u30003.全国人大信访局接访室：永定门西街甲1号\\u3000电话：63036661\\r\\n\\r\\n\\r\\n\\r\\n\\u3000\\u30004.公安部接访室：东城区东堂子胡同49号（坐106路电车到东堂子胡同下）\\u3000电话：65251520\\r\\n\\r\\n\\r\\n\\r\\n\\u3000\\u30005.中央纪委接访室：东城区张自忠府学胡同2号电话：64014567\\r\\n\\r\\n\\r\\n\\r\\n\\u3000\\u30006.最高检查院人民接访室：东城区东交民巷27号旁门电话：65124966\\u3000总机：65209114\\r\\n\\r\\n\\r\\n\\r\\n\\u3000\\u30007.最高法院接访室：丰台区永定门幸福路18号\\u3000电话：63036424\\u3000总机：65290114\\r\\n\\r\\n\\r\\n\\r\\n\\u3000\\u30008.中央组织部办公厅信访办：西单北大街小酱坊胡同甲31号\\u3000电话：66022362\\r\\n\\r\\n\\r\\n\\r\\n\\r\\n\\r\\n安徽省安庆市潜山县（改为天柱山市）有权力组织搞秘密精神控制实验，类似于邪教拉人入伙，就事论事地控制信息和迷惑人们的心智，使人们按照操纵者愿望改变自己，幕后对受害人接触的人或物或事情操控设局做局(极权主义)，最终让所有参与的人（人身依附或单线联络）自发的走上了一条最符合操纵者利益的路，以实现其对受害人不可告人的目的（遗臭万年、倾家荡产、家破人亡）。实验一生，密控一生，操控一生，让受害人后半生处在一个弱肉强食，适者生存的悲惨境地。安徽潜山县有权力组织人造冤假错案，进行秘密精神控制人体实验2007——2016！\\r\\n\\r\\n关注73211部队退伍残疾军人王焰因精神控制实验而被强制性精神病9年——http://www.1339624141.tumblr.com/——https://1drv.ms/1l8aSHq手机微信15055472117\\r\\n\\r\\n百度百科：精神控制、人体实验、人身依附、强迫失踪、反人类罪、610办公室、极权主义。\\r\\n\\r\\n\\r\\n\\r\\n中央部门领导地址维权邮箱和记者手机号码大全2016（王焰）\\r\\n\\r\\n标签：精神控制\\r\\n\\r\\n原文：http://11781764.blog.51cto.com/11771764/1792847\\r\\n\\r\\n \\r\\n \\r\\n踩\\r\\n(0)\\r\\n赞\\r\\n(0)\\r\\n   \\r\\n举报\\r\\n\\r\\n\\r\\n\\r\\n\\r\\n\\r\\n \\r\\n\\r\\n\\r\\n评论一句话评论（0）\\r\\n \\r\\n登录后才能评论！  登录\\r\\n\\r\\n请输入关键词\\r\\n搜索\\r\\n\\r\\n \\r\\n分享档案更多>\\r\\n2019年09月02日 (751)\\r\\n2019年09月01日 (1485)\\r\\n2019年08月31日 (1277)\\r\\n2019年08月30日 (1183)\\r\\n2019年08月29日 (1409)\\r\\n2019年08月28日 (1500)\\r\\n2019年08月27日 (1547)\\r\\n2019年08月26日 (1644)\\r\\n2019年08月25日 (889)\\r\\n2019年08月24日 (1371)\\r\\n最新文章更多>\\r\\njieba 分词功能  2019-09-02\\r\\nTensorflow - tf.nn.embedding_lookup使用  2019-09-02\\r\\nc# 异步请求demo  2019-09-02\\r\\nPHP操作mongoDB 笔记  2019-09-02\\r\\nFlex布局 学习（二）  2019-09-02\\r\\n记一一次软件登录后，过一会闪退  2019-09-02\\r\\njavaScript 基础知识汇总（五）  2019-09-02\\r\\ndjango禁用csrf  2019-09-02\\r\\n什么是CI/CD？  2019-09-02\\r\\nCentos7配置静态IP后无法ping通外网或出现两个IP的问题  2019-09-02\\r\\n最新新闻更多>\\r\\n基因编辑明星动物遇挫：无角牛体内发现细菌基因污染 | 专访 ?  2019-09-01\\r\\n时代催促，官方喊话，中小微企业上云路在何方？  2019-09-01\\r\\n喜茶直面“饥饿营销说”，倾力消除排队现象  2019-09-02\\r\\n火星合日来临，探测器暂“失联”  2019-09-02\\r\\n2019世界人工智能大会，合合信息用人机协作展示未来金融  2019-09-02\\r\\n票房预测背后的黑盒子：算法通过《战狼2》预测《哪吒》必火无疑  2019-09-02\\r\\n浅橙科技：用成就感点亮工作的精彩瞬间  2019-09-02\\r\\n腾讯发起Light计划，优图VisionSeed全面输出软硬件AI能力  2019-09-02\\r\\n应客网说企业新品牌推广怎么做？小红书营销推广，kol网红带货能力真的被发现了吗？  2019-09-02\\r\\n人类大脑神经如何进化？寄生虫充当了隐形设计师  2019-09-01\\r\\n教程昨日排行更多>\\r\\n1.<pre>\\r\\n2.WebForms Repeater\\r\\n3.add()\\r\\n4.Swift 继承\\r\\n5.XML DOM\\r\\n6.Swift 环境搭建\\r\\n7.<ol>\\r\\n8.fontcolor()\\r\\n9.MVC 安全\\r\\n10.PHP MySQL 读取数据\\r\\n\\r\\n \\r\\n友情链接\\r\\n兰亭集智  国之画  cnbeta   CSDN   博客园   百度统计   站长统计   \\r\\n阳和移动开发   汇智网      天码营    HarriesBlog    程序员客栈    PHP教程    插件网   \\r\\n关于我们 - 联系我们 - 留言反馈\\r\\n© 2014 bubuko.com 版权所有 鲁ICP备09046678号-4\\r\\n打开技术之扣，分享程序人生！\\r\\n                 鲁公网安备 37021202000002号\\r\\n↑\\r\\n↓\\r\\n'"
      ]
     },
     "execution_count": 11,
     "metadata": {},
     "output_type": "execute_result"
    }
   ],
   "source": [
    "text"
   ]
  },
  {
   "cell_type": "markdown",
   "metadata": {},
   "source": [
    "# 匹配电话号码和邮箱"
   ]
  },
  {
   "cell_type": "code",
   "execution_count": null,
   "metadata": {},
   "outputs": [],
   "source": []
  },
  {
   "cell_type": "code",
   "execution_count": 12,
   "metadata": {
    "scrolled": false
   },
   "outputs": [
    {
     "name": "stdout",
     "output_type": "stream",
     "text": [
      "Copied to clipboard:\n",
      "13717793170\n",
      "65515511\n",
      "4008000088\n",
      "1436507725\n",
      "3053426405\n",
      "15699788000\n",
      "28586189\n",
      "13608510837\n",
      "13595177075\n",
      "13901195701\n",
      "68579889\n",
      "87388888\n",
      "13580300297\n",
      "02087377340\n",
      "13825074671\n",
      "02087373998\n",
      "65102158\n",
      "65102160\n",
      "13910201685\n",
      "67181551\n",
      "13910201685\n",
      "13838068667\n",
      "13837166366\n",
      "513460486\n",
      "838854395\n",
      "13021995899\n",
      "63035987\n",
      "63036661\n",
      "65251520\n",
      "64014567\n",
      "65124966\n",
      "65209114\n",
      "63036424\n",
      "65290114\n",
      "66022362\n",
      "1339624141\n",
      "15055472117\n",
      "11781764\n",
      "11771764\n",
      "09046678\n",
      "37021202000\n",
      "lawtoday@cctv.com\n",
      "ab30@cctv.com\n",
      "shjl@cctv.com\n",
      "greatfire@greatfire.org\n",
      "ah12331@126.com\n",
      "mod@mod.gov\n",
      "ccdi@mos.gov\n",
      "djzb@mail.cin\n",
      "cin@mail.cin\n",
      "mhwz@mail.mlr\n",
      "gwycss@163.com\n",
      "gwycss@163.com\n",
      "gwycss@163.com\n",
      "wzbj@chinasafety.gov\n",
      "bgt@sport.gov\n",
      "jcj@sport.gov\n",
      "wzzb@mohrss.gov\n",
      "webmaster@cnta.gov\n",
      "sarft@chinasarft.gov\n",
      "webmaster@cnsa.gov\n",
      "webmaster@agri.gov\n",
      "service@hmo.gov\n",
      "webmaster@aqsiq.gov\n",
      "webmaster@mwr.gov\n",
      "webmaster@mwr.gov\n",
      "pfmaster@legalinfo.gov\n",
      "yzxx@court.gov\n",
      "jcgxy@sina.cn\n",
      "iaaca2006@yahoo.com\n",
      "yfw@jcrb.com\n",
      "webmaster@zytzb.gov\n",
      "tougao@zytzb.gov\n",
      "xinxi@idcpc.org\n",
      "tgwww@ccps.gov\n",
      "webmaster@cctv.com\n",
      "kf@people.cn\n",
      "rmzx@peopledaily.com\n",
      "rmzxb@peopledaily.com\n",
      "jtbweb@mot.gov\n",
      "master@audit.gov\n",
      "master@audit.gov\n",
      "moe@moe.edu\n",
      "rmgabcpdzbj@sina.com\n",
      "rmgabcpdzbj@sina.com\n",
      "web@cdpf.org\n",
      "editor@kaiwind.com\n",
      "editor@kaiwind.com\n",
      "weilaiwang@k618.cn\n",
      "gxbwz@scio.gov\n",
      "zgjdwtxy@163.com\n",
      "youth@youth.cn\n",
      "ad@youth.cn\n",
      "bjnews_xjbkx@126.com\n",
      "shepingbj@vip.sina\n",
      "jingjipinglun@vip.sina\n",
      "xjbnews@163.com\n",
      "dangjianzazhi@vip.sina\n",
      "dzbbjb@jfjb.com\n",
      "dzbbjb@jfjb.com\n",
      "sjjs@188.com\n",
      "sjjs@188.com\n",
      "81@81.cn\n",
      "jbjzb@qq.com\n",
      "jbjz@zzb.bj\n",
      "hr@js7tv.cn\n",
      "weiming@js7tv.cn\n",
      "webmaster@gmw.cn\n",
      "md@gmw.cn\n",
      "zhxwcmw@sina.com\n",
      "zgjxxhw@126.com\n",
      "renwzk@163.com\n",
      "nb@nbweekly.com\n",
      "gzndzk@163.com\n",
      "ndzk2005@163.com\n",
      "contact@songshuhui.net\n",
      "snnews@stimes.cn\n",
      "casweb@cashq.ac\n",
      "fwhr@fawan.com\n",
      "bxxb@legaldaily.com\n",
      "pfmaster@legalinfo.gov\n",
      "cls2106@chinalaw.org\n",
      "zgfxzbs@163.com\n",
      "editor@qstheory.com\n",
      "qiushi@qstheory.com\n",
      "cag@nsa.gov\n",
      "chinalegalaid@sina.cn\n",
      "chinalegalaid@sina.cn\n",
      "ab30@cctv.com\n",
      "webmaster@cctv.com\n",
      "cctv12xlft12@sina.com\n",
      "cctvfljt@sina.com\n",
      "cctvdocu@yahoo.com\n",
      "webmaster@cri.cn\n",
      "4008000088@cnr.cn\n",
      "fawu@cnr.cn\n",
      "yuecheng@yuecheng.com\n",
      "webmaster@taimeng.org\n",
      "93zx@93.gov\n",
      "93zx@93.gov\n",
      "jcyjx@acfic.org\n",
      "jcyjx@acfic.org\n",
      "zgshkxw_cssn@163.com\n",
      "icc@npc.gov\n",
      "tgxx@npc.gov\n",
      "circulation@chinadaily.com\n",
      "enquiries@mail.chin\n",
      "mzyfzjbzy@163.com\n",
      "mzyfzjbzy@163.com\n",
      "mzyfztgzy@163.com\n",
      "mzyfztgzy@163.com\n",
      "mzyfzmb@163.com\n",
      "acla@acla.org\n",
      "acla@acla.org\n",
      "izhaopin@chinanews.com\n",
      "fzsp@chinacourt.org\n",
      "rmps@chinacourt.org\n",
      "info@chinacourt.org\n",
      "fangyuanfzw@126.com\n",
      "fangyuan@jcrb.com\n",
      "sjh88688@126.com\n",
      "fylz_ylw@163.com\n",
      "gjjjh@126.com\n",
      "yfw@jcrb.com\n",
      "rmjc@jcrb.com\n",
      "rmjc@jcrb.com\n",
      "rmjc@jcrb.com\n",
      "rmjcbjb@126.com\n",
      "editor@humanrights.cn\n",
      "service@beijing.gov\n",
      "wudi@bjmzj.gov\n",
      "webadmin@shmzj.gov\n",
      "beijingshuangyong@163.com\n",
      "wudi@bjmzj.gov\n",
      "zgagyjcjh@163.com\n",
      "ywb@yangtse.com\n",
      "rxxw@yangtse.com\n",
      "smz@hz.gov\n",
      "mztwzb@126.com\n",
      "mztjjz@126.com\n",
      "lnsmzt_zfxxgk@ln.gov\n",
      "webmaster@hljmzt.gov\n",
      "fjsmzt@fujian.gov\n",
      "mztbb789@126.com\n",
      "mzt_jcs@gd.gov\n",
      "mzt_jcs@gd.gov\n",
      "bgs@gxmzt.gov\n",
      "webadmin@cqmz.gov\n",
      "lqqwlxgood850405@163.com\n",
      "gzsmzt@163.com\n",
      "cupl@cupl.edu\n",
      "service@beijing.gov\n",
      "zfzzw@bj148.org\n",
      "zhaopin@bj148.org\n",
      "bjfzb@bjfzb.gov\n",
      "wzglzx@hebei.gov\n",
      "zgsxwz@shanxigov.cn\n",
      "webmaster@nj.gov\n",
      "info@acftu.org\n",
      "ihr@cupl.edu\n",
      "liuxiaonan@gmail.com\n",
      "cdoffice@chinadaily.com\n",
      "zhongwen@chinadaily.com\n",
      "zgyjca@163.com\n",
      "w926666@163.com\n",
      "rmflwqw@126.com\n",
      "tougao@lianzheng.com\n",
      "3053426405@qq.com\n",
      "gaojian@chinanews.com\n",
      "hnxjs@hotmail.com\n",
      "jfjb81tv@qq.com\n",
      "jfjb81tv@126.com\n",
      "zcfgs@mca.gov\n",
      "sunyan@wokeji.com\n",
      "wangzhan@stdaily.com\n",
      "mhwz@mail.mlr\n",
      "icmh2015@sina.com\n",
      "ndu@cids.cn\n",
      "mail@cdsndu.org\n",
      "mod@mod.gov\n",
      "gfdy@mod.gov\n",
      "gfdy@mod.gov\n",
      "jrwq@163.com\n",
      "neimuxiaoxi@126.com\n",
      "jfjsh@vip.sina\n",
      "dzfw@lifeweek.com\n",
      "liu6465@gmail.com\n",
      "halacha78@126.com\n",
      "ZZZ-1952@163.COM\n",
      "ziniu@cmcm.com\n",
      "editor@humanrights.cn\n",
      "humanrights@pku.edu\n",
      "baiyansong@vip.sina\n",
      "2008124@qq.com\n",
      "xinwendiaocha@vip.sina\n",
      "ab35@cctv.com\n",
      "chaijing@263.net\n",
      "yangchuncctv@gmail.com\n",
      "info@globaltimes.com\n",
      "nfdsb@tom.com\n",
      "87388888@nandu.cc\n",
      "shipingban1@vip.sina\n",
      "nanxu2008@hotmail.com\n",
      "nightnews@hunantv.com\n",
      "huangaihe@chinanews.com\n",
      "rmjdwbj@gmail.com\n",
      "blog@huanqiu.com\n",
      "charles@sohu-inc.com\n",
      "tigerzeng@sohu-inc.com\n",
      "shengli@itc.com\n",
      "news@phoenixtv.com\n",
      "nengjiandu@phoenixtv.com\n",
      "news-bj@tvb.com\n",
      "dejunbest@yahoo.com\n",
      "jsl@wxjt.com\n",
      "dejunbest@yahoo.com\n",
      "zztaotao@163.com\n",
      "gwong@ap.org\n",
      "apdigital@ap.org\n",
      "icaogen@126.com\n",
      "yetan@vip.sohu\n",
      "evenluxin@hotmail.com\n",
      "yixrong@vip.sina\n",
      "phz168@21cn.com\n",
      "chinadaixu2010@sina.com\n",
      "liujunluo@sohu.com\n",
      "ouyangjunshan@163.com\n",
      "daguokongchao@gmail.com\n",
      "editor@vip.sohu\n",
      "evidenceforum@126.com\n",
      "yuming101@gmail.com\n",
      "yuming101@gmail.com\n",
      "yuyueblog2007@sina.com\n",
      "ahgaxw@126.com\n",
      "pajhw110@163.com\n",
      "zgnj@njnet.gov\n",
      "gdshuangyong888@263.net\n",
      "gulei@mca.gov\n",
      "shenjm@shdrc.gov\n",
      "qcx@shmzj.gov\n",
      "azc@szmz.sz\n",
      "yfsyc@szmz.sz\n",
      "bgs@szmz.sz\n",
      "info@wxetc.gov\n",
      "info@wxetc.gov\n",
      "ntmzjbgs@163.com\n",
      "master@aqmz.gov\n",
      "aqzfw@sina.com\n",
      "anqingshuangyong@qq.com\n",
      "zjjjw157@163.com\n",
      "kzgtougao@gmail.com\n",
      "editor@ntdtv.com\n",
      "webcenter@soundofhope.org\n",
      "services@mail.cna\n",
      "atnextsub@nextdigital.com\n",
      "webmaster@nextdigital.com\n",
      "atnextsub@nextdigital.com\n",
      "editor@renminbao.com\n",
      "okokok@netvigator.com\n",
      "info@xjbt.gov\n",
      "postmaster@qh.gov\n",
      "content@nx.gov\n",
      "content@nx.gov\n"
     ]
    }
   ],
   "source": [
    "#匹配电话号码和邮箱\n",
    "import re\n",
    "import pyperclip\n",
    "#为电话创建一个正则表达式\n",
    "phoneRegex = re.compile('\\d{8,11}')#8位到11位都是电话号码\n",
    "#为E-mail 地址创建一个正则表达式\n",
    "emailRegex = re.compile('''(\n",
    "[a-zA-Z0-9_%+-]+ # username\n",
    "@ # @ symbol\n",
    "[a-zA-Z0-9-]+ # domain name\n",
    "\\.#转义字符，只是表示点.\n",
    "[a-zA-Z]{2,4}# dot-something\n",
    ")''', re.VERBOSE) \t\t\t\t#re.VERBOSE管理复杂文本模式，忽略空白符和注释，# username会被忽略掉\n",
    "\n",
    "# Find matches in clipboard text.\n",
    "text = str(pyperclip.paste())\t\t#从粘贴板过来的字符串\n",
    "matches = []\n",
    "for groups in phoneRegex.findall(text):\n",
    "    matches.append(groups)   \n",
    "for groups in emailRegex.findall(text):\n",
    "    matches.append(groups)\n",
    "# Copy results to the clipboard.\n",
    "if len(matches) > 0:\n",
    "    print('Copied to clipboard:')\n",
    "    print('\\n'.join(matches))\n",
    "else:\n",
    "    print('No phone numbers or email addresses found.')"
   ]
  },
  {
   "cell_type": "code",
   "execution_count": 49,
   "metadata": {},
   "outputs": [
    {
     "data": {
      "text/plain": [
       "['a', 'b', 'c']"
      ]
     },
     "execution_count": 49,
     "metadata": {},
     "output_type": "execute_result"
    }
   ],
   "source": [
    "str1='abc'\n",
    "list1=list(str1)#字符串转换为列表\n",
    "list1"
   ]
  },
  {
   "cell_type": "code",
   "execution_count": 50,
   "metadata": {},
   "outputs": [
    {
     "data": {
      "text/plain": [
       "'abc'"
      ]
     },
     "execution_count": 50,
     "metadata": {},
     "output_type": "execute_result"
    }
   ],
   "source": [
    "''.join(list1)#列表转换为字符串"
   ]
  },
  {
   "cell_type": "code",
   "execution_count": null,
   "metadata": {},
   "outputs": [],
   "source": []
  }
 ],
 "metadata": {
  "kernelspec": {
   "display_name": "Python 3",
   "language": "python",
   "name": "python3"
  },
  "language_info": {
   "codemirror_mode": {
    "name": "ipython",
    "version": 3
   },
   "file_extension": ".py",
   "mimetype": "text/x-python",
   "name": "python",
   "nbconvert_exporter": "python",
   "pygments_lexer": "ipython3",
   "version": "3.7.3"
  },
  "toc": {
   "base_numbering": 1,
   "nav_menu": {},
   "number_sections": true,
   "sideBar": true,
   "skip_h1_title": false,
   "title_cell": "Table of Contents",
   "title_sidebar": "Contents",
   "toc_cell": false,
   "toc_position": {},
   "toc_section_display": true,
   "toc_window_display": false
  }
 },
 "nbformat": 4,
 "nbformat_minor": 2
}
